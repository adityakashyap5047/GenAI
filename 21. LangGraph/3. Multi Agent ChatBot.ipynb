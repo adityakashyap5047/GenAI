{
 "cells": [
  {
   "cell_type": "code",
   "execution_count": 2,
   "id": "96431cb8",
   "metadata": {},
   "outputs": [],
   "source": [
    "import os   \n",
    "from dotenv import load_dotenv\n",
    "\n",
    "load_dotenv()\n",
    "\n",
    "ASTRA_DB_ID = os.getenv(\"DATASTAX_DB_ID\")\n",
    "ASTRA_DB_KEY = os.getenv(\"DATASTAX_API_KEY\")"
   ]
  },
  {
   "cell_type": "code",
   "execution_count": 3,
   "id": "29d9313e",
   "metadata": {},
   "outputs": [],
   "source": [
    "import cassio\n",
    "\n",
    "### Connection to the ASTRA DB\n",
    "cassio.init(token=ASTRA_DB_KEY, database_id=ASTRA_DB_ID)"
   ]
  },
  {
   "cell_type": "code",
   "execution_count": null,
   "id": "97068211",
   "metadata": {},
   "outputs": [],
   "source": []
  }
 ],
 "metadata": {
  "kernelspec": {
   "display_name": ".venv",
   "language": "python",
   "name": "python3"
  },
  "language_info": {
   "codemirror_mode": {
    "name": "ipython",
    "version": 3
   },
   "file_extension": ".py",
   "mimetype": "text/x-python",
   "name": "python",
   "nbconvert_exporter": "python",
   "pygments_lexer": "ipython3",
   "version": "3.10.17"
  }
 },
 "nbformat": 4,
 "nbformat_minor": 5
}
