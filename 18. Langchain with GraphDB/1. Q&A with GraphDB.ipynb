{
 "cells": [
  {
   "cell_type": "markdown",
   "id": "a2c65b60",
   "metadata": {},
   "source": [
    "- #### Build a Question Answering application over a Graph Database"
   ]
  },
  {
   "cell_type": "code",
   "execution_count": 1,
   "id": "5a202e7a",
   "metadata": {},
   "outputs": [
    {
     "data": {
      "text/plain": [
       "True"
      ]
     },
     "execution_count": 1,
     "metadata": {},
     "output_type": "execute_result"
    }
   ],
   "source": [
    "import os\n",
    "from dotenv import load_dotenv\n",
    "load_dotenv()"
   ]
  },
  {
   "cell_type": "code",
   "execution_count": 2,
   "id": "79e9487e",
   "metadata": {},
   "outputs": [],
   "source": [
    "os.environ[\"NEO4J_URI\"] = os.getenv(\"NEO4J_URI\")\n",
    "os.environ[\"NEO4J_USERNAME\"] = os.getenv(\"NEO4J_USERNAME\")\n",
    "os.environ[\"NEO4J_PASSWORD\"] = os.getenv(\"NEO4J_PASSWORD\")\n",
    "\n",
    "NEO4J_URI = os.getenv(\"NEO4J_URI\")\n",
    "NEO4J_USERNAME = os.getenv(\"NEO4J_USERNAME\")\n",
    "NEO4J_PASSWORD = os.getenv(\"NEO4J_PASSWORD\")"
   ]
  },
  {
   "cell_type": "code",
   "execution_count": 3,
   "id": "cda97925",
   "metadata": {},
   "outputs": [
    {
     "name": "stderr",
     "output_type": "stream",
     "text": [
      "C:\\Users\\adity\\AppData\\Local\\Temp\\ipykernel_6872\\3748794941.py:3: LangChainDeprecationWarning: The class `Neo4jGraph` was deprecated in LangChain 0.3.8 and will be removed in 1.0. An updated version of the class exists in the :class:`~langchain-neo4j package and should be used instead. To use it run `pip install -U :class:`~langchain-neo4j` and import as `from :class:`~langchain_neo4j import Neo4jGraph``.\n",
      "  graph = Neo4jGraph(url=NEO4J_URI, username=NEO4J_USERNAME, password=NEO4J_PASSWORD)\n"
     ]
    }
   ],
   "source": [
    "from langchain_community.graphs import Neo4jGraph\n",
    "\n",
    "graph = Neo4jGraph(url=NEO4J_URI, username=NEO4J_USERNAME, password=NEO4J_PASSWORD)"
   ]
  },
  {
   "cell_type": "code",
   "execution_count": 25,
   "id": "dab51e86",
   "metadata": {},
   "outputs": [],
   "source": [
    "### Data set Movies\n",
    "\n",
    "moview_query = \"\"\" \n",
    "\n",
    "LOAD CSV WITH HEADERS FROM\n",
    "'https://raw.githubusercontent.com/tomasonjo/blog-datasets/main/movies/movies_small.csv' AS row\n",
    "\n",
    "MERGE(m:Movie{id: row.movieId})\n",
    "SET m.released = date(row.released),\n",
    "    m.title = row.title,\n",
    "    m.imdbRating = toFloat(row.imdbRating)\n",
    "FOREACH (director in split(row.director, \"|\") | \n",
    "    MERGE(p: Person {name: trim(director)})\n",
    "    MERGE(p)-[:DIRECTED]->(m))\n",
    "FOREACH (actor in split(row.actors, \"|\") |\n",
    "    MERGE(p: Person {name: trim(actor)})\n",
    "    MERGE(p)-[:ACTED_IN]->(m))\n",
    "FOREACH (genre in split(row.genres, \"|\") |\n",
    "    MERGE(g: Genre {name: trim(genre)})\n",
    "    MERGE(m)-[:IN_GENRE]->(g))\n",
    "\n",
    "\"\"\""
   ]
  },
  {
   "cell_type": "code",
   "execution_count": 26,
   "id": "dd93eeba",
   "metadata": {},
   "outputs": [
    {
     "data": {
      "text/plain": [
       "' \\n\\nLOAD CSV WITH HEADERS FROM\\n\\'https://raw.githubusercontent.com/tomasonjo/blog-datasets/main/movies/movies_small.csv\\' AS row\\n\\nMERGE(m:Movie{id: row.movieId})\\nSET m.released = date(row.released),\\n    m.title = row.title,\\n    m.imdbRating = toFloat(row.imdbRating)\\nFOREACH (director in split(row.director, \"|\") | \\n    MERGE(p: Person {name: trim(director)})\\n    MERGE(p)-[:DIRECTED]->(m))\\nFOREACH (actor in split(row.actors, \"|\") |\\n    MERGE(p: Person {name: trim(actor)})\\n    MERGE(p)-[:ACTED_IN]->(m))\\nFOREACH (genre in split(row.genres, \"|\") |\\n    MERGE(g: Genre {name: trim(genre)})\\n    MERGE(m)-[:IN_GENRE]->(g))\\n\\n'"
      ]
     },
     "execution_count": 26,
     "metadata": {},
     "output_type": "execute_result"
    }
   ],
   "source": [
    "moview_query"
   ]
  },
  {
   "cell_type": "code",
   "execution_count": 27,
   "id": "a4ec57c9",
   "metadata": {},
   "outputs": [
    {
     "data": {
      "text/plain": [
       "[]"
      ]
     },
     "execution_count": 27,
     "metadata": {},
     "output_type": "execute_result"
    }
   ],
   "source": [
    "graph.query(moview_query)"
   ]
  },
  {
   "cell_type": "code",
   "execution_count": null,
   "id": "824d8f28",
   "metadata": {},
   "outputs": [],
   "source": []
  }
 ],
 "metadata": {
  "kernelspec": {
   "display_name": ".venv",
   "language": "python",
   "name": "python3"
  },
  "language_info": {
   "codemirror_mode": {
    "name": "ipython",
    "version": 3
   },
   "file_extension": ".py",
   "mimetype": "text/x-python",
   "name": "python",
   "nbconvert_exporter": "python",
   "pygments_lexer": "ipython3",
   "version": "3.10.17"
  }
 },
 "nbformat": 4,
 "nbformat_minor": 5
}
