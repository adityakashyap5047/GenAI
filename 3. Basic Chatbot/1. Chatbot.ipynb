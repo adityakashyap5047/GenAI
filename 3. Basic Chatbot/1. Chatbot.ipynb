{
 "cells": [
  {
   "cell_type": "markdown",
   "id": "31c8fc9f",
   "metadata": {},
   "source": [
    "## Building A Chatbot\n",
    "In this video We'll go over an example of how to design and implement an LLM-powered chatbot. This chatbot will be able to have a conversation and remember previous interactions.\n",
    "\n",
    "Note that this chatbot that we build will only use the language model to have a conversation. There are several other related concepts that you may be looking for:\n",
    "\n",
    "- Conversational RAG: Enable a chatbot experience over an external source of data\n",
    "- Agents: Build a chatbot that can take actions\n",
    "\n",
    "This video tutorial will cover the basics which will be helpful for those two more advanced topics."
   ]
  },
  {
   "cell_type": "code",
   "execution_count": 1,
   "id": "ec2c6b2b",
   "metadata": {},
   "outputs": [],
   "source": [
    "import os\n",
    "from dotenv import load_dotenv\n",
    "load_dotenv()\n",
    "\n",
    "groq_api_key = os.getenv(\"GROQ_API_KEY\")"
   ]
  },
  {
   "cell_type": "code",
   "execution_count": 2,
   "id": "f18c02dd",
   "metadata": {},
   "outputs": [
    {
     "data": {
      "text/plain": [
       "ChatGroq(client=<groq.resources.chat.completions.Completions object at 0x000001CCDF58F6D0>, async_client=<groq.resources.chat.completions.AsyncCompletions object at 0x000001CCDF5C8B80>, model_name='Gemma2-9b-It', model_kwargs={}, groq_api_key=SecretStr('**********'))"
      ]
     },
     "execution_count": 2,
     "metadata": {},
     "output_type": "execute_result"
    }
   ],
   "source": [
    "from langchain_groq import ChatGroq\n",
    "model=ChatGroq(model=\"Gemma2-9b-It\",groq_api_key=groq_api_key)\n",
    "model"
   ]
  },
  {
   "cell_type": "code",
   "execution_count": 3,
   "id": "5e5e78eb",
   "metadata": {},
   "outputs": [
    {
     "data": {
      "text/plain": [
       "AIMessage(content=\"Hi Aditya, it's nice to meet you!\\n\\nLearning about Generative AI (GENAI) is exciting! It's a rapidly developing field with a lot of potential. \\n\\nWhat specifically are you interested in learning about GENAI? \\n\\nFor example, are you curious about:\\n\\n* **Different types of GENAI models** (like text-based models like me, image generators, music composers, etc.)?\\n* **How GENAI models are trained?**\\n* **The ethical considerations surrounding GENAI?**\\n* **Potential applications of GENAI in various industries?**\\n\\nKnowing your interests will help me provide you with more relevant and helpful information.\\n\\nGood luck with your learning journey!  I'm here to help in any way I can.\\n\", additional_kwargs={}, response_metadata={'token_usage': {'completion_tokens': 163, 'prompt_tokens': 21, 'total_tokens': 184, 'completion_time': 0.296363636, 'prompt_time': 0.002254586, 'queue_time': 0.242257844, 'total_time': 0.298618222}, 'model_name': 'Gemma2-9b-It', 'system_fingerprint': 'fp_10c08bf97d', 'finish_reason': 'stop', 'logprobs': None}, id='run--048d85b5-4fb1-414a-9fde-20b0243cff03-0', usage_metadata={'input_tokens': 21, 'output_tokens': 163, 'total_tokens': 184})"
      ]
     },
     "execution_count": 3,
     "metadata": {},
     "output_type": "execute_result"
    }
   ],
   "source": [
    "from langchain_core.messages import HumanMessage\n",
    "\n",
    "model.invoke([HumanMessage(content=\"Hi, My name is Aditya and I am learning GENAI\")])"
   ]
  },
  {
   "cell_type": "code",
   "execution_count": 4,
   "id": "d208208f",
   "metadata": {},
   "outputs": [
    {
     "data": {
      "text/plain": [
       "AIMessage(content=\"Your name is Aditya, and right now you are having a conversation with me, an AI assistant.  You're learning about GENAI! 😊 \\n\\nIs there anything specific you'd like to know about GENAI? I'm happy to help in any way I can.\\n\", additional_kwargs={}, response_metadata={'token_usage': {'completion_tokens': 61, 'prompt_tokens': 69, 'total_tokens': 130, 'completion_time': 0.110909091, 'prompt_time': 0.003672751, 'queue_time': 0.25101206200000004, 'total_time': 0.114581842}, 'model_name': 'Gemma2-9b-It', 'system_fingerprint': 'fp_10c08bf97d', 'finish_reason': 'stop', 'logprobs': None}, id='run--2771d1ae-62c5-4325-a284-7e29ba23bf69-0', usage_metadata={'input_tokens': 69, 'output_tokens': 61, 'total_tokens': 130})"
      ]
     },
     "execution_count": 4,
     "metadata": {},
     "output_type": "execute_result"
    }
   ],
   "source": [
    "from langchain_core.messages import AIMessage\n",
    "\n",
    "model.invoke(\n",
    "    [\n",
    "        HumanMessage(content=\"Hi, My name is Aditya and I am learning GENAI\"),\n",
    "        AIMessage(content=\"Hello Aditya! That's great to hear. What specific aspects of GENAI are you interested in learning about?\"),\n",
    "        HumanMessage(content=\"Hey What's is my name and what is currently I am doing?\")\n",
    "    ]\n",
    ")"
   ]
  },
  {
   "cell_type": "markdown",
   "id": "c67048f8",
   "metadata": {},
   "source": [
    "### Message History\n",
    "We can use a Message History class to wrap our model and make it stateful. This will keep track of inputs and outputs of the model, and store them in some datastore. Future interactions will then load those messages and pass them into the chain as part of the input. Let's see how to use this!"
   ]
  },
  {
   "cell_type": "code",
   "execution_count": 5,
   "id": "77b27995",
   "metadata": {},
   "outputs": [],
   "source": [
    "from langchain_community.chat_message_histories import ChatMessageHistory\n",
    "from langchain_core.chat_history import BaseChatMessageHistory\n",
    "from langchain_core.runnables.history import RunnableWithMessageHistory\n",
    "\n",
    "store = {}\n",
    "\n",
    "def get_session_history(session_id: str) -> BaseChatMessageHistory:\n",
    "    if session_id not in store:\n",
    "        store[session_id] = ChatMessageHistory()\n",
    "    return store[session_id]\n",
    "\n",
    "with_message_history = RunnableWithMessageHistory(model, get_session_history)"
   ]
  },
  {
   "cell_type": "code",
   "execution_count": 6,
   "id": "b936435a",
   "metadata": {},
   "outputs": [],
   "source": [
    "config = {\"configurable\": {\"session_id\": \"chat1\"}}"
   ]
  },
  {
   "cell_type": "code",
   "execution_count": 7,
   "id": "642e7d2d",
   "metadata": {},
   "outputs": [],
   "source": [
    "response = with_message_history.invoke(\n",
    "    [\n",
    "        HumanMessage(content=\"Hi, My name is Aditya and I am learning GENAI\"),\n",
    "    ],\n",
    "    config=config\n",
    ")"
   ]
  },
  {
   "cell_type": "code",
   "execution_count": 8,
   "id": "5ea6919a",
   "metadata": {},
   "outputs": [
    {
     "data": {
      "text/plain": [
       "\"Hi Aditya, it's great to meet you!  Learning about Generative AI (GENAI) is exciting. It's a rapidly evolving field with tons of potential. \\n\\nWhat specifically are you interested in learning about GENAI?  \\n\\nPerhaps you'd like to know more about:\\n\\n* **Different types of GENAI models:** Like text generators (like me!), image creators, music composers, etc.\\n* **How GENAI works:** The underlying technology and concepts like deep learning and transformers.\\n* **Applications of GENAI:**  How it's being used in areas like art, writing, research, and more.\\n* **Ethical considerations:** The potential biases and risks associated with GENAI.\\n\\nTell me more about your goals, and I'll do my best to help you on your GENAI learning journey!\\n\""
      ]
     },
     "execution_count": 8,
     "metadata": {},
     "output_type": "execute_result"
    }
   ],
   "source": [
    "response.content"
   ]
  },
  {
   "cell_type": "code",
   "execution_count": 9,
   "id": "bfcef44f",
   "metadata": {},
   "outputs": [
    {
     "data": {
      "text/plain": [
       "AIMessage(content='You told me your name is Aditya.  \\n\\nYou are currently having a conversation with me, an AI assistant, and learning about Generative AI! 😊  \\n\\n\\n\\nLet me know if you have any other questions.\\n', additional_kwargs={}, response_metadata={'token_usage': {'completion_tokens': 46, 'prompt_tokens': 220, 'total_tokens': 266, 'completion_time': 0.083636364, 'prompt_time': 0.00869615, 'queue_time': 0.246805243, 'total_time': 0.092332514}, 'model_name': 'Gemma2-9b-It', 'system_fingerprint': 'fp_10c08bf97d', 'finish_reason': 'stop', 'logprobs': None}, id='run--cbd5a4d2-4527-4517-b6f2-054239782d7b-0', usage_metadata={'input_tokens': 220, 'output_tokens': 46, 'total_tokens': 266})"
      ]
     },
     "execution_count": 9,
     "metadata": {},
     "output_type": "execute_result"
    }
   ],
   "source": [
    "with_message_history.invoke(\n",
    "    [\n",
    "        HumanMessage(content=\"Hey What's is my name and what is currently I am doing?\")\n",
    "    ],\n",
    "    config=config\n",
    ")"
   ]
  },
  {
   "cell_type": "code",
   "execution_count": 10,
   "id": "e57d2b2f",
   "metadata": {},
   "outputs": [],
   "source": [
    "### Change the config ---> session_id\n",
    "config1 = {\"configurable\": {\"session_id\": \"chat2\"}}\n",
    "response = with_message_history.invoke(\n",
    "    [\n",
    "        HumanMessage(content=\"Hey What's is my name and what is currently I am doing?\"),\n",
    "    ],\n",
    "    config=config1\n",
    ")"
   ]
  },
  {
   "cell_type": "code",
   "execution_count": 11,
   "id": "ffbbd95b",
   "metadata": {},
   "outputs": [
    {
     "data": {
      "text/plain": [
       "\"As an AI, I have no memory of past conversations and no way of knowing your name or what you're doing.\\n\\nIf you'd like to tell me your name, I'd be happy to know! 😊  And I'm always ready for a chat about whatever's on your mind.\\n\""
      ]
     },
     "execution_count": 11,
     "metadata": {},
     "output_type": "execute_result"
    }
   ],
   "source": [
    "response.content"
   ]
  },
  {
   "cell_type": "code",
   "execution_count": 12,
   "id": "ae0eee4a",
   "metadata": {},
   "outputs": [
    {
     "data": {
      "text/plain": [
       "\"Hi Adam! It's great to meet you.  \\n\\nBeing a software engineer in GENAI must be fascinating. What kind of projects are you working on? Do you have any cool projects you'd like to tell me about?  I'm always eager to learn more about the world of AI.\\n\""
      ]
     },
     "execution_count": 12,
     "metadata": {},
     "output_type": "execute_result"
    }
   ],
   "source": [
    "response = with_message_history.invoke(\n",
    "    [\n",
    "        HumanMessage(content=\"Hi, My name is Adam and I am a software engineer in GENAI\"),\n",
    "    ],\n",
    "    config=config1\n",
    ")\n",
    "response.content"
   ]
  },
  {
   "cell_type": "code",
   "execution_count": 14,
   "id": "3ab8197e",
   "metadata": {},
   "outputs": [
    {
     "data": {
      "text/plain": [
       "\"You told me your name is Adam, and that you're a software engineer in GENAI.  \\n\\nIs there anything else you'd like to tell me about yourself?  I'm always happy to chat! 😊  \\n\""
      ]
     },
     "execution_count": 14,
     "metadata": {},
     "output_type": "execute_result"
    }
   ],
   "source": [
    "response = with_message_history.invoke(\n",
    "    [\n",
    "        HumanMessage(content=\"Hey What's is my name and who am I?\"),\n",
    "    ],\n",
    "    config=config1\n",
    ")\n",
    "response.content"
   ]
  },
  {
   "cell_type": "markdown",
   "id": "fc1682b2",
   "metadata": {},
   "source": [
    "### Prompt templates\n",
    "Prompt Templates help to turn raw user information into a format that the LLM can work with. In this case, the raw user input is just a message, which we are passing to the LLM. Let's now make that a bit more complicated. First, let's add in a system message with some custom instructions (but still taking messages as input). Next, we'll add in more input besides just the messages."
   ]
  },
  {
   "cell_type": "code",
   "execution_count": 18,
   "id": "a82b203f",
   "metadata": {},
   "outputs": [],
   "source": [
    "from langchain_core.prompts import ChatPromptTemplate, MessagesPlaceholder\n",
    "\n",
    "prompt = ChatPromptTemplate.from_messages(\n",
    "    [\n",
    "        (\"system\",\"You are a helpful assistant.Answer all the question to the nest of your ability\"),\n",
    "        MessagesPlaceholder(variable_name=\"messages\")\n",
    "    ]\n",
    ")\n",
    "\n",
    "chain = prompt | model"
   ]
  },
  {
   "cell_type": "code",
   "execution_count": 19,
   "id": "a84e9bff",
   "metadata": {},
   "outputs": [
    {
     "data": {
      "text/plain": [
       "AIMessage(content=\"Hi Aditya, it's great to meet you!  \\n\\nI'm glad you're learning about Generative AI (GENAI). It's a fascinating field with a lot of potential.  \\n\\nWhat can I help you with today? Do you have any specific questions about GENAI, or are you looking for general information?\\n\\nI can tell you about:\\n\\n* **What GENAI is and how it works**\\n* **Different types of GENAI models (like text generators, image creators, etc.)**\\n* **Examples of GENAI in action**\\n* **The ethical considerations surrounding GENAI**\\n* **Resources for learning more about GENAI**\\n\\n\\nJust let me know what you're interested in! 😊  \\n\\n\", additional_kwargs={}, response_metadata={'token_usage': {'completion_tokens': 157, 'prompt_tokens': 37, 'total_tokens': 194, 'completion_time': 0.285454545, 'prompt_time': 0.002415775, 'queue_time': 0.243760485, 'total_time': 0.28787032}, 'model_name': 'Gemma2-9b-It', 'system_fingerprint': 'fp_10c08bf97d', 'finish_reason': 'stop', 'logprobs': None}, id='run--93325e3c-0db5-4970-92d3-10101dfd4ae3-0', usage_metadata={'input_tokens': 37, 'output_tokens': 157, 'total_tokens': 194})"
      ]
     },
     "execution_count": 19,
     "metadata": {},
     "output_type": "execute_result"
    }
   ],
   "source": [
    "chain.invoke({\"messages\": [HumanMessage(content=\"Hi, My name is Aditya and I am learning GENAI\")]})"
   ]
  },
  {
   "cell_type": "code",
   "execution_count": 20,
   "id": "41f3f7d3",
   "metadata": {},
   "outputs": [],
   "source": [
    "with_message_history = RunnableWithMessageHistory(chain, get_session_history)"
   ]
  },
  {
   "cell_type": "code",
   "execution_count": 21,
   "id": "409dd588",
   "metadata": {},
   "outputs": [
    {
     "data": {
      "text/plain": [
       "\"Hello Aditya! It's great to meet you.  \\n\\nI'm happy to help you learn about Generative AI (GENAI). What can I tell you about it? \\n\\nDo you have any specific questions in mind? \\n\\nFor example, are you curious about:\\n\\n* **What GENAI is and how it works?**\\n* **Different types of GENAI models (like text generators, image generators, etc.)?**\\n* **Examples of GENAI applications?**\\n* **The ethical considerations surrounding GENAI?**\\n\\n\\nLet me know where you'd like to start, and I'll do my best to provide helpful information! 😊  \\n\\n\""
      ]
     },
     "execution_count": 21,
     "metadata": {},
     "output_type": "execute_result"
    }
   ],
   "source": [
    "config2 = {\"configurable\": {\"session_id\": \"chat3\"}}\n",
    "response = with_message_history.invoke(\n",
    "    [\n",
    "        HumanMessage(content=\"Hi, My name is Aditya and I am learning GENAI\"),\n",
    "    ],\n",
    "    config=config2\n",
    ")\n",
    "response.content"
   ]
  },
  {
   "cell_type": "code",
   "execution_count": null,
   "id": "a9220b9b",
   "metadata": {},
   "outputs": [],
   "source": []
  }
 ],
 "metadata": {
  "kernelspec": {
   "display_name": ".venv",
   "language": "python",
   "name": "python3"
  },
  "language_info": {
   "codemirror_mode": {
    "name": "ipython",
    "version": 3
   },
   "file_extension": ".py",
   "mimetype": "text/x-python",
   "name": "python",
   "nbconvert_exporter": "python",
   "pygments_lexer": "ipython3",
   "version": "3.10.17"
  }
 },
 "nbformat": 4,
 "nbformat_minor": 5
}
