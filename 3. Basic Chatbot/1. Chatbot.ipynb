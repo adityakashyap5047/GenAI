{
 "cells": [
  {
   "cell_type": "markdown",
   "id": "31c8fc9f",
   "metadata": {},
   "source": [
    "## Building A Chatbot\n",
    "In this video We'll go over an example of how to design and implement an LLM-powered chatbot. This chatbot will be able to have a conversation and remember previous interactions.\n",
    "\n",
    "Note that this chatbot that we build will only use the language model to have a conversation. There are several other related concepts that you may be looking for:\n",
    "\n",
    "- Conversational RAG: Enable a chatbot experience over an external source of data\n",
    "- Agents: Build a chatbot that can take actions\n",
    "\n",
    "This video tutorial will cover the basics which will be helpful for those two more advanced topics."
   ]
  },
  {
   "cell_type": "code",
   "execution_count": 2,
   "id": "ec2c6b2b",
   "metadata": {},
   "outputs": [],
   "source": [
    "import os\n",
    "from dotenv import load_dotenv\n",
    "load_dotenv()\n",
    "\n",
    "groq_api_key = os.getenv(\"GROQ_API_KEY\")"
   ]
  },
  {
   "cell_type": "code",
   "execution_count": 3,
   "id": "f18c02dd",
   "metadata": {},
   "outputs": [
    {
     "data": {
      "text/plain": [
       "ChatGroq(client=<groq.resources.chat.completions.Completions object at 0x000002474F7277F0>, async_client=<groq.resources.chat.completions.AsyncCompletions object at 0x000002474F768CA0>, model_name='Gemma2-9b-It', model_kwargs={}, groq_api_key=SecretStr('**********'))"
      ]
     },
     "execution_count": 3,
     "metadata": {},
     "output_type": "execute_result"
    }
   ],
   "source": [
    "from langchain_groq import ChatGroq\n",
    "model=ChatGroq(model=\"Gemma2-9b-It\",groq_api_key=groq_api_key)\n",
    "model"
   ]
  },
  {
   "cell_type": "code",
   "execution_count": 5,
   "id": "5e5e78eb",
   "metadata": {},
   "outputs": [
    {
     "data": {
      "text/plain": [
       "AIMessage(content=\"Hello Aditya!\\n\\nIt's great to meet you. Learning about Generative AI is exciting! \\n\\nWhat specifically are you interested in learning about GENAI? \\n\\nPerhaps you'd like to know:\\n\\n* **The basics of how it works?**\\n* **Different types of GENAI models (like text generators, image creators, etc.)?**\\n* **How GENAI is used in real-world applications?**\\n* **The ethical considerations surrounding GENAI?**\\n\\nTell me more about your interests, and I'll do my best to help!\\n\", additional_kwargs={}, response_metadata={'token_usage': {'completion_tokens': 122, 'prompt_tokens': 21, 'total_tokens': 143, 'completion_time': 0.221818182, 'prompt_time': 0.002347765, 'queue_time': 0.240635765, 'total_time': 0.224165947}, 'model_name': 'Gemma2-9b-It', 'system_fingerprint': 'fp_10c08bf97d', 'finish_reason': 'stop', 'logprobs': None}, id='run--a6da6895-16c4-4025-9389-2be588ca1f88-0', usage_metadata={'input_tokens': 21, 'output_tokens': 122, 'total_tokens': 143})"
      ]
     },
     "execution_count": 5,
     "metadata": {},
     "output_type": "execute_result"
    }
   ],
   "source": [
    "from langchain_core.messages import HumanMessage\n",
    "\n",
    "model.invoke([HumanMessage(content=\"Hi, My name is Aditya and I am learning GENAI\")])"
   ]
  },
  {
   "cell_type": "code",
   "execution_count": 6,
   "id": "d208208f",
   "metadata": {},
   "outputs": [
    {
     "data": {
      "text/plain": [
       "AIMessage(content='You said your name is Aditya, and you are learning about GENAI.  \\n\\nIs there anything else I can help you with as you learn? 😊  \\n', additional_kwargs={}, response_metadata={'token_usage': {'completion_tokens': 35, 'prompt_tokens': 69, 'total_tokens': 104, 'completion_time': 0.063636364, 'prompt_time': 0.003843891, 'queue_time': 0.24382452100000002, 'total_time': 0.067480255}, 'model_name': 'Gemma2-9b-It', 'system_fingerprint': 'fp_10c08bf97d', 'finish_reason': 'stop', 'logprobs': None}, id='run--d6963db4-5632-442b-946e-ac8369fe79d4-0', usage_metadata={'input_tokens': 69, 'output_tokens': 35, 'total_tokens': 104})"
      ]
     },
     "execution_count": 6,
     "metadata": {},
     "output_type": "execute_result"
    }
   ],
   "source": [
    "from langchain_core.messages import AIMessage\n",
    "\n",
    "model.invoke(\n",
    "    [\n",
    "        HumanMessage(content=\"Hi, My name is Aditya and I am learning GENAI\"),\n",
    "        AIMessage(content=\"Hello Aditya! That's great to hear. What specific aspects of GENAI are you interested in learning about?\"),\n",
    "        HumanMessage(content=\"Hey What's is my name and what is currently I am doing?\")\n",
    "    ]\n",
    ")"
   ]
  },
  {
   "cell_type": "code",
   "execution_count": null,
   "id": "77b27995",
   "metadata": {},
   "outputs": [],
   "source": []
  }
 ],
 "metadata": {
  "kernelspec": {
   "display_name": ".venv",
   "language": "python",
   "name": "python3"
  },
  "language_info": {
   "codemirror_mode": {
    "name": "ipython",
    "version": 3
   },
   "file_extension": ".py",
   "mimetype": "text/x-python",
   "name": "python",
   "nbconvert_exporter": "python",
   "pygments_lexer": "ipython3",
   "version": "3.10.17"
  }
 },
 "nbformat": 4,
 "nbformat_minor": 5
}
