{
 "cells": [
  {
   "cell_type": "markdown",
   "id": "23d9b132",
   "metadata": {},
   "source": [
    "### Quickstart: Querying PDF With Astra and LangChain\n",
    "\n",
    "- #### A question-answering demo using Astra DB and LangChain, powered by Vector Search\n",
    "\n",
    "- #### Pre-requisites:\n",
    "\n",
    "- You need a **_Serverless Cassandra with Vector Search_** database on [Astra DB](https://astra.datastax.com) to run this demo. As outlined in more detail [here](https://docs.datastax.com/en/astra-serverless/docs/vector-search/quickstart.html#_prepare_for_using_your_vector_database), you should get a DB Token with role _Database Administrator_ and copy your Database ID: these connection parameters are needed momentarily.\n",
    "\n",
    "- You also need an [OpenAI API Key](https://cassio.org/start_here/#llm-access) for this demo to work.\n",
    "\n",
    "- #### What you will do:\n",
    "\n",
    "    -  Setup: import dependencies, provide secrets, create the LangChain vector store;\n",
    "    -  Run a Question-Answering loop retrieving the relevant headlines and having an LLM construct the answer."
   ]
  },
  {
   "cell_type": "code",
   "execution_count": 1,
   "id": "3e8020cb",
   "metadata": {},
   "outputs": [],
   "source": [
    "### Install the required dependencies\n",
    "\n",
    "!uv pip install -q cassio datasets langchain openai tiktoken"
   ]
  },
  {
   "cell_type": "code",
   "execution_count": 4,
   "id": "be3f2f91",
   "metadata": {},
   "outputs": [],
   "source": [
    "### Import necessary packages\n",
    "\n",
    "from langchain.vectorstores.cassandra import Cassandra\n",
    "from langchain.indexes.vectorstore import VectorStoreIndexWrapper\n",
    "from langchain.llms import OpenAI\n",
    "from langchain.embeddings import OpenAIEmbeddings\n",
    "\n",
    "### Support for dataset retrieval with HuggingFace\n",
    "from datasets import load_dataset\n",
    "\n",
    "# With CassIO, the engine powering the Astra DB integration in LangChain,\n",
    "# It also initialize to help the DB connection:\n",
    "import cassio"
   ]
  },
  {
   "cell_type": "code",
   "execution_count": 5,
   "id": "7931ff9f",
   "metadata": {},
   "outputs": [],
   "source": [
    "!uv pip install -q PyPDF2"
   ]
  },
  {
   "cell_type": "code",
   "execution_count": 6,
   "id": "e422046b",
   "metadata": {},
   "outputs": [
    {
     "data": {
      "text/plain": [
       "True"
      ]
     },
     "execution_count": 6,
     "metadata": {},
     "output_type": "execute_result"
    }
   ],
   "source": [
    "import os\n",
    "from dotenv import load_dotenv\n",
    "from PyPDF2 import PdfReader\n",
    "\n",
    "load_dotenv()"
   ]
  },
  {
   "cell_type": "code",
   "execution_count": 7,
   "id": "002a38f0",
   "metadata": {},
   "outputs": [],
   "source": [
    "### Setup\n",
    "\n",
    "ASTRA_DB_APPLICATION_TOKEN = os.getenv(\"ASTRA_DB_APPLICATION_TOKEN\")\n",
    "ASTRA_DB_ID = os.getenv(\"ASTRA_DB_ID\")\n",
    "OPENAI_API_KEY = os.getenv(\"OPENAI_API_KEY\")"
   ]
  },
  {
   "cell_type": "code",
   "execution_count": null,
   "id": "23f0d0ed",
   "metadata": {},
   "outputs": [],
   "source": []
  }
 ],
 "metadata": {
  "kernelspec": {
   "display_name": ".venv",
   "language": "python",
   "name": "python3"
  },
  "language_info": {
   "codemirror_mode": {
    "name": "ipython",
    "version": 3
   },
   "file_extension": ".py",
   "mimetype": "text/x-python",
   "name": "python",
   "nbconvert_exporter": "python",
   "pygments_lexer": "ipython3",
   "version": "3.10.17"
  }
 },
 "nbformat": 4,
 "nbformat_minor": 5
}
